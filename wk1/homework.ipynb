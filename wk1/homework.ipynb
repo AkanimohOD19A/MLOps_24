{
 "cells": [
  {
   "cell_type": "code",
   "execution_count": null,
   "metadata": {},
   "outputs": [],
   "source": [
    "## Install Packages\n",
    "!pip install numpy pandas seaborn scikit-learn"
   ]
  },
  {
   "cell_type": "code",
   "execution_count": 1,
   "metadata": {},
   "outputs": [
    {
     "name": "stdout",
     "output_type": "stream",
     "text": [
      "datasets\n",
      "homework.ipynb\n"
     ]
    }
   ],
   "source": [
    "!ls"
   ]
  },
  {
   "cell_type": "code",
   "execution_count": null,
   "metadata": {},
   "outputs": [],
   "source": [
    "## Download Yellow Taxi Trips Files\n",
    "! curl -o ./datasets/jan_yellow.parquet https://d37ci6vzurychx.cloudfront.net/trip-data/yellow_tripdata_2023-01.parquet\n",
    "! curl -o ./datasets/feb_yellow.parquet https://d37ci6vzurychx.cloudfront.net/trip-data/yellow_tripdata_2023-02.parquet"
   ]
  },
  {
   "cell_type": "code",
   "execution_count": 2,
   "metadata": {},
   "outputs": [
    {
     "ename": "ModuleNotFoundError",
     "evalue": "No module named 'numpy'",
     "output_type": "error",
     "traceback": [
      "\u001b[1;31m---------------------------------------------------------------------------\u001b[0m",
      "\u001b[1;31mModuleNotFoundError\u001b[0m                       Traceback (most recent call last)",
      "\u001b[1;32mc:\\Users\\buasc\\OneDrive\\Desktop\\MLOps_24\\wk1\\homework.ipynb Cell 4\u001b[0m line \u001b[0;36m2\n\u001b[0;32m      <a href='vscode-notebook-cell:/c%3A/Users/buasc/OneDrive/Desktop/MLOps_24/wk1/homework.ipynb#W2sZmlsZQ%3D%3D?line=0'>1</a>\u001b[0m \u001b[39m## Load Libraries\u001b[39;00m\n\u001b[1;32m----> <a href='vscode-notebook-cell:/c%3A/Users/buasc/OneDrive/Desktop/MLOps_24/wk1/homework.ipynb#W2sZmlsZQ%3D%3D?line=1'>2</a>\u001b[0m \u001b[39mimport\u001b[39;00m \u001b[39mnumpy\u001b[39;00m \u001b[39mas\u001b[39;00m \u001b[39mnp\u001b[39;00m\n\u001b[0;32m      <a href='vscode-notebook-cell:/c%3A/Users/buasc/OneDrive/Desktop/MLOps_24/wk1/homework.ipynb#W2sZmlsZQ%3D%3D?line=2'>3</a>\u001b[0m \u001b[39mimport\u001b[39;00m \u001b[39mpandas\u001b[39;00m \u001b[39mas\u001b[39;00m \u001b[39mpd\u001b[39;00m\n\u001b[0;32m      <a href='vscode-notebook-cell:/c%3A/Users/buasc/OneDrive/Desktop/MLOps_24/wk1/homework.ipynb#W2sZmlsZQ%3D%3D?line=3'>4</a>\u001b[0m \u001b[39mimport\u001b[39;00m \u001b[39mseaborn\u001b[39;00m \u001b[39mas\u001b[39;00m \u001b[39msns\u001b[39;00m\n",
      "\u001b[1;31mModuleNotFoundError\u001b[0m: No module named 'numpy'"
     ]
    }
   ],
   "source": [
    "## Load Libraries\n",
    "import numpy as np\n",
    "import pandas as pd\n",
    "import seaborn as sns\n",
    "from matplotlib import pyplot as plt\n",
    "from sklearn.feature_extraction import DictVectorizer\n",
    "\n",
    "## Load Dataset\n",
    "jan_df = pd.read_parquet(\"./datasets/jan_yellow.parquet\")\n",
    "jan_df.head().T"
   ]
  },
  {
   "cell_type": "code",
   "execution_count": null,
   "metadata": {},
   "outputs": [],
   "source": [
    "jan_df.columns()"
   ]
  },
  {
   "cell_type": "code",
   "execution_count": 53,
   "metadata": {},
   "outputs": [
    {
     "data": {
      "text/html": [
       "<div>\n",
       "<style scoped>\n",
       "    .dataframe tbody tr th:only-of-type {\n",
       "        vertical-align: middle;\n",
       "    }\n",
       "\n",
       "    .dataframe tbody tr th {\n",
       "        vertical-align: top;\n",
       "    }\n",
       "\n",
       "    .dataframe thead th {\n",
       "        text-align: right;\n",
       "    }\n",
       "</style>\n",
       "<table border=\"1\" class=\"dataframe\">\n",
       "  <thead>\n",
       "    <tr style=\"text-align: right;\">\n",
       "      <th></th>\n",
       "      <th>0</th>\n",
       "      <th>1</th>\n",
       "      <th>2</th>\n",
       "      <th>3</th>\n",
       "      <th>4</th>\n",
       "    </tr>\n",
       "  </thead>\n",
       "  <tbody>\n",
       "    <tr>\n",
       "      <th>tpep_pickup_datetime</th>\n",
       "      <td>2023-01-01 00:32:10</td>\n",
       "      <td>2023-01-01 00:55:08</td>\n",
       "      <td>2023-01-01 00:25:04</td>\n",
       "      <td>2023-01-01 00:03:48</td>\n",
       "      <td>2023-01-01 00:10:29</td>\n",
       "    </tr>\n",
       "    <tr>\n",
       "      <th>tpep_dropoff_datetime</th>\n",
       "      <td>2023-01-01 00:40:36</td>\n",
       "      <td>2023-01-01 01:01:27</td>\n",
       "      <td>2023-01-01 00:37:49</td>\n",
       "      <td>2023-01-01 00:13:25</td>\n",
       "      <td>2023-01-01 00:21:19</td>\n",
       "    </tr>\n",
       "    <tr>\n",
       "      <th>duration</th>\n",
       "      <td>8.433333</td>\n",
       "      <td>6.316667</td>\n",
       "      <td>12.75</td>\n",
       "      <td>9.616667</td>\n",
       "      <td>10.833333</td>\n",
       "    </tr>\n",
       "  </tbody>\n",
       "</table>\n",
       "</div>"
      ],
      "text/plain": [
       "                                         0                    1  \\\n",
       "tpep_pickup_datetime   2023-01-01 00:32:10  2023-01-01 00:55:08   \n",
       "tpep_dropoff_datetime  2023-01-01 00:40:36  2023-01-01 01:01:27   \n",
       "duration                          8.433333             6.316667   \n",
       "\n",
       "                                         2                    3  \\\n",
       "tpep_pickup_datetime   2023-01-01 00:25:04  2023-01-01 00:03:48   \n",
       "tpep_dropoff_datetime  2023-01-01 00:37:49  2023-01-01 00:13:25   \n",
       "duration                             12.75             9.616667   \n",
       "\n",
       "                                         4  \n",
       "tpep_pickup_datetime   2023-01-01 00:10:29  \n",
       "tpep_dropoff_datetime  2023-01-01 00:21:19  \n",
       "duration                         10.833333  "
      ]
     },
     "execution_count": 53,
     "metadata": {},
     "output_type": "execute_result"
    }
   ],
   "source": [
    "## Cleaning/Wrangling\n",
    "jan_df[[\"tpep_pickup_datetime\", \"tpep_dropoff_datetime\"]] = jan_df[[\"tpep_pickup_datetime\", \"tpep_dropoff_datetime\"]].apply(pd.to_datetime)\n",
    "jan_df[\"duration\"] = (jan_df[\"tpep_dropoff_datetime\"] - jan_df[\"tpep_pickup_datetime\"]).dt.total_seconds()/60\n",
    "\n",
    "jan_df[[\"tpep_pickup_datetime\", \"tpep_dropoff_datetime\", \"duration\"]].head().T #Check"
   ]
  },
  {
   "cell_type": "markdown",
   "metadata": {},
   "source": [
    "#### Standard deviation\n",
    "Formula: \n",
    "$$\n",
    "SD = \\sqrt{\\frac{\\sum (x - \\mu)^2}{N}}\n",
    "$$\n",
    "\n",
    "$$\\mu = 15.669 minutes $$\n",
    "$$SD = 42.594 minutes $$"
   ]
  },
  {
   "cell_type": "code",
   "execution_count": 54,
   "metadata": {},
   "outputs": [],
   "source": [
    "filtered_duration = jan_df[jan_df['duration'].between(1,60)]\n",
    "clean_prop = len(filtered_duration['duration'])/len(jan_df['duration'])"
   ]
  },
  {
   "cell_type": "code",
   "execution_count": 55,
   "metadata": {},
   "outputs": [
    {
     "name": "stdout",
     "output_type": "stream",
     "text": [
      "Data Dimension: 3066766 rows | 20 columns \n",
      "\n",
      "Duration Standard Deviation: 42.59435124195458 \n",
      "\n",
      "Outlier Proportion: 0.9812202822125979 \n",
      "\n"
     ]
    }
   ],
   "source": [
    "## Exploratory Data Analysis (EDA)\n",
    "print(f\"1, Data Dimension: {jan_df.shape[0]} rows | {jan_df.shape[1]} columns \\n\")\n",
    "\n",
    "print(f\"2, Duration Standard Deviation: {jan_df['duration'].std()} \\n\")\n",
    "\n",
    "print(f\"3, Outlier Proportion: {clean_prop} \\n\")"
   ]
  },
  {
   "cell_type": "markdown",
   "metadata": {},
   "source": [
    "### Train Model\n",
    "###### Apply One-Hot Encoding\n",
    "- Turn dataframe into list of dictionaries\n",
    "- Fit dictionary vectorizer\n",
    "- Get feature matrix\n",
    "###### Model Training\n",
    "- Linear Regression Model\n",
    "- Calculate RMSE\n",
    "- Evaluate on Validation Data"
   ]
  },
  {
   "cell_type": "code",
   "execution_count": 71,
   "metadata": {},
   "outputs": [
    {
     "data": {
      "text/html": [
       "<div>\n",
       "<style scoped>\n",
       "    .dataframe tbody tr th:only-of-type {\n",
       "        vertical-align: middle;\n",
       "    }\n",
       "\n",
       "    .dataframe tbody tr th {\n",
       "        vertical-align: top;\n",
       "    }\n",
       "\n",
       "    .dataframe thead th {\n",
       "        text-align: right;\n",
       "    }\n",
       "</style>\n",
       "<table border=\"1\" class=\"dataframe\">\n",
       "  <thead>\n",
       "    <tr style=\"text-align: right;\">\n",
       "      <th></th>\n",
       "      <th>PULocationID</th>\n",
       "      <th>DOLocationID</th>\n",
       "      <th>duration</th>\n",
       "    </tr>\n",
       "  </thead>\n",
       "  <tbody>\n",
       "    <tr>\n",
       "      <th>0</th>\n",
       "      <td>161</td>\n",
       "      <td>141</td>\n",
       "      <td>8.433333</td>\n",
       "    </tr>\n",
       "    <tr>\n",
       "      <th>1</th>\n",
       "      <td>43</td>\n",
       "      <td>237</td>\n",
       "      <td>6.316667</td>\n",
       "    </tr>\n",
       "    <tr>\n",
       "      <th>2</th>\n",
       "      <td>48</td>\n",
       "      <td>238</td>\n",
       "      <td>12.750000</td>\n",
       "    </tr>\n",
       "    <tr>\n",
       "      <th>3</th>\n",
       "      <td>138</td>\n",
       "      <td>7</td>\n",
       "      <td>9.616667</td>\n",
       "    </tr>\n",
       "    <tr>\n",
       "      <th>4</th>\n",
       "      <td>107</td>\n",
       "      <td>79</td>\n",
       "      <td>10.833333</td>\n",
       "    </tr>\n",
       "  </tbody>\n",
       "</table>\n",
       "</div>"
      ],
      "text/plain": [
       "  PULocationID DOLocationID   duration\n",
       "0          161          141   8.433333\n",
       "1           43          237   6.316667\n",
       "2           48          238  12.750000\n",
       "3          138            7   9.616667\n",
       "4          107           79  10.833333"
      ]
     },
     "execution_count": 71,
     "metadata": {},
     "output_type": "execute_result"
    }
   ],
   "source": [
    "## Apply One-Hot Encoding\n",
    "ml_df = filtered_duration[['PULocationID', 'DOLocationID']].astype(str)\n",
    "ml_df['duration'] = filtered_duration['duration']\n",
    "ml_df.head()"
   ]
  },
  {
   "cell_type": "code",
   "execution_count": 89,
   "metadata": {},
   "outputs": [
    {
     "data": {
      "text/plain": [
       "[{'PULocationID': '43', 'DOLocationID': '237'},\n",
       " {'PULocationID': '48', 'DOLocationID': '238'},\n",
       " {'PULocationID': '138', 'DOLocationID': '7'},\n",
       " {'PULocationID': '107', 'DOLocationID': '79'}]"
      ]
     },
     "execution_count": 89,
     "metadata": {},
     "output_type": "execute_result"
    }
   ],
   "source": [
    "## Dictionaries\n",
    "dicts_train = ml_df[['PULocationID', 'DOLocationID']].to_dict(orient='records')\n",
    "dicts_train[1:5]"
   ]
  },
  {
   "cell_type": "code",
   "execution_count": 95,
   "metadata": {},
   "outputs": [
    {
     "name": "stdout",
     "output_type": "stream",
     "text": [
      "4, Dimension of feature_matrix: (3009173, 515) \n",
      "\n"
     ]
    }
   ],
   "source": [
    "vec = DictVectorizer(sparse = True)\n",
    "feature_matrix = vec.fit_transform(dicts_train)\n",
    "\n",
    "print(f\"4, Dimension of feature_matrix: {feature_matrix.shape} \\n\")"
   ]
  },
  {
   "cell_type": "code",
   "execution_count": 74,
   "metadata": {},
   "outputs": [
    {
     "name": "stdout",
     "output_type": "stream",
     "text": [
      "RMSE: 7.649262236295703\n"
     ]
    }
   ],
   "source": [
    "## Linear Regression Model\n",
    "from sklearn.linear_model import LinearRegression\n",
    "from sklearn.metrics import mean_squared_error\n",
    "\n",
    "y = ml_df['duration']\n",
    "\n",
    "model = LinearRegression()\n",
    "model.fit(feature_matrix, y)\n",
    "y_pred = model.predict(feature_matrix)\n",
    "rmse = np.sqrt(mean_squared_error(y, y_pred))\n",
    "\n",
    "print(f\"5, RMSE: {rmse}\")"
   ]
  },
  {
   "cell_type": "code",
   "execution_count": 102,
   "metadata": {},
   "outputs": [
    {
     "data": {
      "text/plain": [
       "(2855951, 20)"
      ]
     },
     "execution_count": 102,
     "metadata": {},
     "output_type": "execute_result"
    }
   ],
   "source": [
    "val_df = pd.read_parquet(\"./datasets/feb_yellow.parquet\")\n",
    "val_df[[\"tpep_pickup_datetime\", \"tpep_dropoff_datetime\"]] = val_df[[\"tpep_pickup_datetime\", \"tpep_dropoff_datetime\"]].apply(pd.to_datetime)\n",
    "val_df[\"duration\"] = (val_df[\"tpep_dropoff_datetime\"] - val_df[\"tpep_pickup_datetime\"]).dt.total_seconds()/60\n",
    "val_df = val_df[val_df['duration'].between(1,60)]\n",
    "\n",
    "val_df.shape"
   ]
  },
  {
   "cell_type": "code",
   "execution_count": 103,
   "metadata": {},
   "outputs": [
    {
     "name": "stdout",
     "output_type": "stream",
     "text": [
      "Dimension of feature_matrix: (2855951, 515) \n",
      "\n",
      "6, Validation_RMSE: 7.811812822882009\n"
     ]
    }
   ],
   "source": [
    "## Compile chunks into a function\n",
    "def rmse_validation(df_pth: str):\n",
    "    val_df = pd.read_parquet(df_pth)\n",
    "    val_df[[\"tpep_pickup_datetime\", \"tpep_dropoff_datetime\"]] = val_df[[\"tpep_pickup_datetime\", \"tpep_dropoff_datetime\"]].apply(pd.to_datetime)\n",
    "    val_df[\"duration\"] = (val_df[\"tpep_dropoff_datetime\"] - val_df[\"tpep_pickup_datetime\"]).dt.total_seconds()/60\n",
    "    val_df = val_df[val_df['duration'].between(1,60)]\n",
    "\n",
    "    val_df[['PULocationID', 'DOLocationID']] = val_df[['PULocationID', 'DOLocationID']].astype(str)\n",
    "    dicts_val = val_df[['PULocationID', 'DOLocationID']].to_dict(orient='records')\n",
    "    \n",
    "    # Use `transform` not `fit_transform` the validation data according to the feature space learned from the training data\n",
    "    feature_matrix_val = vec.transform(dicts_val)\n",
    "    print(f\"Dimension of feature_matrix: {feature_matrix_val.shape} \\n\")\n",
    "\n",
    "    y_val = val_df['duration']\n",
    "    y_pred = model.predict(feature_matrix_val)\n",
    "    rmse = np.sqrt(mean_squared_error(y_val, y_pred))\n",
    "\n",
    "    return rmse\n",
    "\n",
    "result_feb_df = rmse_validation(\"./datasets/feb_yellow.parquet\")\n",
    "print(f\"6, Validation_RMSE: {result_feb_df}\")"
   ]
  }
 ],
 "metadata": {
  "kernelspec": {
   "display_name": "Python 3",
   "language": "python",
   "name": "python3"
  },
  "language_info": {
   "codemirror_mode": {
    "name": "ipython",
    "version": 3
   },
   "file_extension": ".py",
   "mimetype": "text/x-python",
   "name": "python",
   "nbconvert_exporter": "python",
   "pygments_lexer": "ipython3",
   "version": "3.11.2"
  }
 },
 "nbformat": 4,
 "nbformat_minor": 2
}
