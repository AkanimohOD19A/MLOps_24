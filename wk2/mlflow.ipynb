{
 "cells": [
  {
   "cell_type": "markdown",
   "metadata": {},
   "source": [
    "### Q1. Install MLflow"
   ]
  },
  {
   "cell_type": "code",
   "execution_count": 8,
   "metadata": {},
   "outputs": [
    {
     "name": "stdout",
     "output_type": "stream",
     "text": [
      "mlflow, version 2.13.0\n"
     ]
    }
   ],
   "source": [
    "# ! pip install -U mlflow\n",
    "! mlflow --version"
   ]
  },
  {
   "cell_type": "code",
   "execution_count": 1,
   "metadata": {},
   "outputs": [
    {
     "name": "stderr",
     "output_type": "stream",
     "text": [
      "  % Total    % Received % Xferd  Average Speed   Time    Time     Time  Current\n",
      "                                 Dload  Upload   Total   Spent    Left  Speed\n",
      "\n",
      "  0     0    0     0    0     0      0      0 --:--:-- --:--:-- --:--:--     0\n",
      "  0     0    0     0    0     0      0      0 --:--:-- --:--:-- --:--:--     0\n",
      "  6 1393k    6 97767    0     0  63559      0  0:00:22  0:00:01  0:00:21 63608\n",
      " 50 1393k   50  703k    0     0   286k      0  0:00:04  0:00:02  0:00:02  287k\n",
      "100 1393k  100 1393k    0     0   414k      0  0:00:03  0:00:03 --:--:--  415k\n",
      "  % Total    % Received % Xferd  Average Speed   Time    Time     Time  Current\n",
      "                                 Dload  Upload   Total   Spent    Left  Speed\n",
      "\n",
      "  0     0    0     0    0     0      0      0 --:--:-- --:--:-- --:--:--     0\n",
      "  0     0    0     0    0     0      0      0 --:--:-- --:--:-- --:--:--     0\n",
      "  8 1497k    8  127k    0     0   123k      0  0:00:12  0:00:01  0:00:11  123k\n",
      " 81 1497k   81 1221k    0     0   581k      0  0:00:02  0:00:02 --:--:--  582k\n",
      "100 1497k  100 1497k    0     0   592k      0  0:00:02  0:00:02 --:--:--  593k\n",
      "  % Total    % Received % Xferd  Average Speed   Time    Time     Time  Current\n",
      "                                 Dload  Upload   Total   Spent    Left  Speed\n",
      "\n",
      "  0     0    0     0    0     0      0      0 --:--:-- --:--:-- --:--:--     0\n",
      "  0     0    0     0    0     0      0      0 --:--:-- --:--:-- --:--:--     0\n",
      " 22 1690k   22  372k    0     0   256k      0  0:00:06  0:00:01  0:00:05  256k\n",
      "100 1690k  100 1690k    0     0   744k      0  0:00:02  0:00:02 --:--:--  745k\n"
     ]
    }
   ],
   "source": [
    "## Fetch Data\n",
    "### Create Folder\n",
    "! mkdir datasets \n",
    "! curl -o ./datasets/green_tripdata_2023-01.parquet https://d37ci6vzurychx.cloudfront.net/trip-data/green_tripdata_2023-01.parquet\n",
    "! curl -o ./datasets/green_tripdata_2023-02.parquet https://d37ci6vzurychx.cloudfront.net/trip-data/green_tripdata_2023-02.parquet\n",
    "! curl -o ./datasets/green_tripdata_2023-03.parquet https://d37ci6vzurychx.cloudfront.net/trip-data/green_tripdata_2023-03.parquet"
   ]
  },
  {
   "cell_type": "markdown",
   "metadata": {},
   "source": [
    "### Q2. Download and preprocess the data\n",
    "Copy and save the [preprocess_data.py](https://github.com/DataTalksClub/mlops-zoomcamp/blob/main/cohorts/2024/02-experiment-tracking/homework/preprocess_data.py) script from the github repo and save in your parent directory"
   ]
  },
  {
   "cell_type": "code",
   "execution_count": 3,
   "metadata": {},
   "outputs": [],
   "source": [
    "! python preprocess_data.py --raw_data_path datasets/ --dest_path ./output"
   ]
  },
  {
   "cell_type": "markdown",
   "metadata": {},
   "source": [
    "### Q3. Train a model with autolog"
   ]
  },
  {
   "cell_type": "code",
   "execution_count": 3,
   "metadata": {},
   "outputs": [
    {
     "name": "stdout",
     "output_type": "stream",
     "text": [
      "\n",
      "  0%|          | 0/15 [00:00<?, ?trial/s, best loss=?]\n",
      "  7%|▋         | 1/15 [00:11<02:39, 11.42s/trial, best loss: 5.370086069268862]\n",
      " 13%|█▎        | 2/15 [00:12<01:08,  5.25s/trial, best loss: 5.370086069268862]\n",
      " 20%|██        | 3/15 [00:13<00:41,  3.45s/trial, best loss: 5.370086069268862]\n",
      " 27%|██▋       | 4/15 [00:25<01:15,  6.84s/trial, best loss: 5.357490752366866]\n",
      " 33%|███▎      | 5/15 [00:32<01:08,  6.85s/trial, best loss: 5.357490752366866]\n",
      " 40%|████      | 6/15 [00:52<01:41, 11.32s/trial, best loss: 5.354695072530291]\n",
      " 47%|████▋     | 7/15 [01:11<01:50, 13.85s/trial, best loss: 5.354695072530291]\n",
      " 53%|█████▎    | 8/15 [01:14<01:11, 10.27s/trial, best loss: 5.354695072530291]\n",
      " 60%|██████    | 9/15 [01:25<01:03, 10.53s/trial, best loss: 5.354695072530291]\n",
      " 67%|██████▋   | 10/15 [01:37<00:54, 10.91s/trial, best loss: 5.354695072530291]\n",
      " 73%|███████▎  | 11/15 [01:45<00:40, 10.07s/trial, best loss: 5.335419588556921]\n",
      " 80%|████████  | 12/15 [01:52<00:27,  9.12s/trial, best loss: 5.335419588556921]\n",
      " 87%|████████▋ | 13/15 [01:54<00:13,  6.96s/trial, best loss: 5.335419588556921]\n",
      " 93%|█████████▎| 14/15 [02:00<00:06,  6.85s/trial, best loss: 5.335419588556921]\n",
      "100%|██████████| 15/15 [02:10<00:00,  7.85s/trial, best loss: 5.335419588556921]\n",
      "100%|██████████| 15/15 [02:10<00:00,  8.73s/trial, best loss: 5.335419588556921]\n"
     ]
    },
    {
     "name": "stderr",
     "output_type": "stream",
     "text": [
      "2024/06/17 19:02:09 INFO mlflow.tracking.fluent: Experiment with name 'random-forest-hyperopt' does not exist. Creating a new experiment.\n",
      "c:\\Users\\buasc\\OneDrive\\Desktop\\MLOps_24\\MLOps_24\\Lib\\site-packages\\sklearn\\metrics\\_regression.py:492: FutureWarning: 'squared' is deprecated in version 1.4 and will be removed in 1.6. To calculate the root mean squared error, use the function'root_mean_squared_error'.\n",
      "  warnings.warn(\n",
      "\n",
      "c:\\Users\\buasc\\OneDrive\\Desktop\\MLOps_24\\MLOps_24\\Lib\\site-packages\\sklearn\\metrics\\_regression.py:492: FutureWarning: 'squared' is deprecated in version 1.4 and will be removed in 1.6. To calculate the root mean squared error, use the function'root_mean_squared_error'.\n",
      "  warnings.warn(\n",
      "\n",
      "c:\\Users\\buasc\\OneDrive\\Desktop\\MLOps_24\\MLOps_24\\Lib\\site-packages\\sklearn\\metrics\\_regression.py:492: FutureWarning: 'squared' is deprecated in version 1.4 and will be removed in 1.6. To calculate the root mean squared error, use the function'root_mean_squared_error'.\n",
      "  warnings.warn(\n",
      "\n",
      "c:\\Users\\buasc\\OneDrive\\Desktop\\MLOps_24\\MLOps_24\\Lib\\site-packages\\sklearn\\metrics\\_regression.py:492: FutureWarning: 'squared' is deprecated in version 1.4 and will be removed in 1.6. To calculate the root mean squared error, use the function'root_mean_squared_error'.\n",
      "  warnings.warn(\n",
      "\n",
      "c:\\Users\\buasc\\OneDrive\\Desktop\\MLOps_24\\MLOps_24\\Lib\\site-packages\\sklearn\\metrics\\_regression.py:492: FutureWarning: 'squared' is deprecated in version 1.4 and will be removed in 1.6. To calculate the root mean squared error, use the function'root_mean_squared_error'.\n",
      "  warnings.warn(\n",
      "\n",
      "c:\\Users\\buasc\\OneDrive\\Desktop\\MLOps_24\\MLOps_24\\Lib\\site-packages\\sklearn\\metrics\\_regression.py:492: FutureWarning: 'squared' is deprecated in version 1.4 and will be removed in 1.6. To calculate the root mean squared error, use the function'root_mean_squared_error'.\n",
      "  warnings.warn(\n",
      "\n",
      "c:\\Users\\buasc\\OneDrive\\Desktop\\MLOps_24\\MLOps_24\\Lib\\site-packages\\sklearn\\metrics\\_regression.py:492: FutureWarning: 'squared' is deprecated in version 1.4 and will be removed in 1.6. To calculate the root mean squared error, use the function'root_mean_squared_error'.\n",
      "  warnings.warn(\n",
      "\n",
      "c:\\Users\\buasc\\OneDrive\\Desktop\\MLOps_24\\MLOps_24\\Lib\\site-packages\\sklearn\\metrics\\_regression.py:492: FutureWarning: 'squared' is deprecated in version 1.4 and will be removed in 1.6. To calculate the root mean squared error, use the function'root_mean_squared_error'.\n",
      "  warnings.warn(\n",
      "\n",
      "c:\\Users\\buasc\\OneDrive\\Desktop\\MLOps_24\\MLOps_24\\Lib\\site-packages\\sklearn\\metrics\\_regression.py:492: FutureWarning: 'squared' is deprecated in version 1.4 and will be removed in 1.6. To calculate the root mean squared error, use the function'root_mean_squared_error'.\n",
      "  warnings.warn(\n",
      "\n",
      "c:\\Users\\buasc\\OneDrive\\Desktop\\MLOps_24\\MLOps_24\\Lib\\site-packages\\sklearn\\metrics\\_regression.py:492: FutureWarning: 'squared' is deprecated in version 1.4 and will be removed in 1.6. To calculate the root mean squared error, use the function'root_mean_squared_error'.\n",
      "  warnings.warn(\n",
      "\n",
      "c:\\Users\\buasc\\OneDrive\\Desktop\\MLOps_24\\MLOps_24\\Lib\\site-packages\\sklearn\\metrics\\_regression.py:492: FutureWarning: 'squared' is deprecated in version 1.4 and will be removed in 1.6. To calculate the root mean squared error, use the function'root_mean_squared_error'.\n",
      "  warnings.warn(\n",
      "\n",
      "c:\\Users\\buasc\\OneDrive\\Desktop\\MLOps_24\\MLOps_24\\Lib\\site-packages\\sklearn\\metrics\\_regression.py:492: FutureWarning: 'squared' is deprecated in version 1.4 and will be removed in 1.6. To calculate the root mean squared error, use the function'root_mean_squared_error'.\n",
      "  warnings.warn(\n",
      "\n",
      "c:\\Users\\buasc\\OneDrive\\Desktop\\MLOps_24\\MLOps_24\\Lib\\site-packages\\sklearn\\metrics\\_regression.py:492: FutureWarning: 'squared' is deprecated in version 1.4 and will be removed in 1.6. To calculate the root mean squared error, use the function'root_mean_squared_error'.\n",
      "  warnings.warn(\n",
      "\n",
      "c:\\Users\\buasc\\OneDrive\\Desktop\\MLOps_24\\MLOps_24\\Lib\\site-packages\\sklearn\\metrics\\_regression.py:492: FutureWarning: 'squared' is deprecated in version 1.4 and will be removed in 1.6. To calculate the root mean squared error, use the function'root_mean_squared_error'.\n",
      "  warnings.warn(\n",
      "\n",
      "c:\\Users\\buasc\\OneDrive\\Desktop\\MLOps_24\\MLOps_24\\Lib\\site-packages\\sklearn\\metrics\\_regression.py:492: FutureWarning: 'squared' is deprecated in version 1.4 and will be removed in 1.6. To calculate the root mean squared error, use the function'root_mean_squared_error'.\n",
      "  warnings.warn(\n",
      "\n"
     ]
    }
   ],
   "source": [
    "# !python hpo.py"
   ]
  },
  {
   "cell_type": "markdown",
   "metadata": {},
   "source": [
    "### Q4. Launch the tracking server locally"
   ]
  },
  {
   "cell_type": "code",
   "execution_count": null,
   "metadata": {},
   "outputs": [],
   "source": [
    "# mlflow server --backend-store-uri sqlite:///mlflow.db  --default-artifact-root ./artifacts  --host 0.0.0.0"
   ]
  },
  {
   "cell_type": "markdown",
   "metadata": {},
   "source": [
    "### Q5. Tune model hyperparameters"
   ]
  },
  {
   "cell_type": "code",
   "execution_count": null,
   "metadata": {},
   "outputs": [],
   "source": [
    "#> 5.335"
   ]
  },
  {
   "cell_type": "markdown",
   "metadata": {},
   "source": [
    "### Q6. Promote the best model to the model registry"
   ]
  },
  {
   "cell_type": "code",
   "execution_count": null,
   "metadata": {},
   "outputs": [],
   "source": [
    "#> 5.567"
   ]
  }
 ],
 "metadata": {
  "kernelspec": {
   "display_name": "MLOps_24",
   "language": "python",
   "name": "python3"
  },
  "language_info": {
   "codemirror_mode": {
    "name": "ipython",
    "version": 3
   },
   "file_extension": ".py",
   "mimetype": "text/x-python",
   "name": "python",
   "nbconvert_exporter": "python",
   "pygments_lexer": "ipython3",
   "version": "3.11.2"
  }
 },
 "nbformat": 4,
 "nbformat_minor": 2
}
